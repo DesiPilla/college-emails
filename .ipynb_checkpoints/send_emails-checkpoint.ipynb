{
 "cells": [
  {
   "cell_type": "code",
   "execution_count": 20,
   "metadata": {},
   "outputs": [],
   "source": [
    "import pandas as pd\n",
    "import smtplib, ssl\n",
    "from email.mime.text import MIMEText\n",
    "from email.mime.multipart import MIMEMultipart\n",
    "from getpass import getpass\n",
    "import time"
   ]
  },
  {
   "cell_type": "code",
   "execution_count": 2,
   "metadata": {},
   "outputs": [
    {
     "name": "stdout",
     "output_type": "stream",
     "text": [
      "········\n"
     ]
    }
   ],
   "source": [
    "port = 465  # For SSL\n",
    "sender_email = input('What email would you like to send emails from?')\n",
    "password = getpass()"
   ]
  },
  {
   "cell_type": "code",
   "execution_count": 3,
   "metadata": {},
   "outputs": [],
   "source": [
    "# Create the plain-text and HTML version of your message\n",
    "text_file = open('email_text.txt', 'r')\n",
    "text = text_file.read()\n",
    "text_file.close()\n",
    "\n",
    "html_file = open('email_html.txt', 'r')\n",
    "html = html_file.read()\n",
    "html_file.close()"
   ]
  },
  {
   "cell_type": "code",
   "execution_count": 43,
   "metadata": {},
   "outputs": [],
   "source": [
    "def send_email(school_name, school_email):\n",
    "    # Create a secure SSL context\n",
    "    context = ssl.create_default_context()\n",
    "\n",
    "    message = MIMEMultipart(\"alternative\")\n",
    "    message[\"From\"] = sender_email\n",
    "    message[\"To\"] = school_email\n",
    "\n",
    "    # Turn these into plain/html MIMEText objects\n",
    "    part1 = MIMEText(text.format(school_name), \"plain\")\n",
    "    part2 = MIMEText(html.format(school_name), \"html\")\n",
    "\n",
    "    # Add HTML/plain-text parts to MIMEMultipart message\n",
    "    # The email client will try to render the last part first\n",
    "    message.attach(part1)\n",
    "    message.attach(part2)\n",
    "    message[\"Subject\"] = text.split('\\n')[0]\n",
    "    \n",
    "    # Create secure connection with server and send email\n",
    "    context = ssl.create_default_context()\n",
    "    with smtplib.SMTP_SSL(\"smtp.gmail.com\", 465, context=context) as server:\n",
    "        server.login(sender_email, password)\n",
    "        server.sendmail(sender_email, school_email, message.as_string())"
   ]
  },
  {
   "cell_type": "code",
   "execution_count": null,
   "metadata": {},
   "outputs": [],
   "source": [
    "emails_df = pd.read_excel('collegeEmails.xlsx')\n",
    "emails_df = emails_df[emails_df.College != 'University Of Delaware']"
   ]
  },
  {
   "cell_type": "code",
   "execution_count": 159,
   "metadata": {},
   "outputs": [
    {
     "name": "stdout",
     "output_type": "stream",
     "text": [
      "\u001b[1mThe script has finished executing.\u001b[0m]\n"
     ]
    }
   ],
   "source": [
    "i, e, s = 0, 0, 1\n",
    "school_names = emails_df.College.tolist()\n",
    "school_emails = emails_df.Email.tolist()\n",
    "while i < len(school_names): \n",
    "    try:\n",
    "        send_email(school_names[i], school_emails[i])\n",
    "        i += 1\n",
    "    except smtplib.SMTPDataError as err:\n",
    "        if err.args[0] == 421:\n",
    "            print('{0} emails sent... waiting 1 minute due to limit restrictions...'.format(i), end='')\n",
    "            time.sleep(65)\n",
    "            print(' Done!')\n",
    "        elif err.args[0] == 550:\n",
    "            emails_df = emails_df.iloc[i:]\n",
    "            print('Error! Daily limit exceeded. Please run cell again tomorrow. All variables have been updated.')\n",
    "            print('\\033[1m{0} emails were sent in this execution.\\033[0m'.format(i), end='')\n",
    "            break;\n",
    "        else:\n",
    "            if e < 5:\n",
    "                print('Error! Waiting 1 minute and trying again...', end='')\n",
    "                time.sleep(65)\n",
    "                e += 1\n",
    "                print(' Done! The program will attempt to continue executing.')\n",
    "            else:\n",
    "                s = 0\n",
    "                print('The maximum number of errors has been reached. The script will now terminate.')\n",
    "            \n",
    "    except smtplib.SMTPServerDisconnected as err:\n",
    "            if e < 5:\n",
    "                print('Error! Connection unexpectedly closed. Waiting 1 minute and trying again...', end='')\n",
    "                time.sleep(65)\n",
    "                e += 1\n",
    "                print(' Done! The program will attempt to continue executing.')\n",
    "            else:\n",
    "                s = 0\n",
    "                print('The maximum number of errors has been reached. The script will now terminate.')\n",
    "            \n",
    "            \n",
    "if s: print('\\033[1mThe script has finished executing.\\033[0m')"
   ]
  }
 ],
 "metadata": {
  "kernelspec": {
   "display_name": "Python 3",
   "language": "python",
   "name": "python3"
  },
  "language_info": {
   "codemirror_mode": {
    "name": "ipython",
    "version": 3
   },
   "file_extension": ".py",
   "mimetype": "text/x-python",
   "name": "python",
   "nbconvert_exporter": "python",
   "pygments_lexer": "ipython3",
   "version": "3.7.7"
  }
 },
 "nbformat": 4,
 "nbformat_minor": 4
}
